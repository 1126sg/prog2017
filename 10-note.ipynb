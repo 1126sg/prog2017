{
 "cells": [
  {
   "cell_type": "code",
   "execution_count": null,
   "metadata": {
    "collapsed": false
   },
   "outputs": [],
   "source": [
    "x=1\n",
    "\n",
    "0< x and x <10"
   ]
  },
  {
   "cell_type": "code",
   "execution_count": 2,
   "metadata": {
    "collapsed": false
   },
   "outputs": [
    {
     "data": {
      "text/plain": [
       "True"
      ]
     },
     "execution_count": 2,
     "metadata": {},
     "output_type": "execute_result"
    }
   ],
   "source": [
    "0< x or x <0"
   ]
  },
  {
   "cell_type": "markdown",
   "metadata": {},
   "source": [
    "問　120"
   ]
  },
  {
   "cell_type": "code",
   "execution_count": 14,
   "metadata": {
    "collapsed": false
   },
   "outputs": [
    {
     "name": "stdout",
     "output_type": "stream",
     "text": [
      " 名前は太郎，10歳，体重は20.6Kg です。\n"
     ]
    }
   ],
   "source": [
    "name = '太郎'\n",
    "age = 10\n",
    "weight = 20.567\n",
    "print(' 名前は{0}，{1}歳，体重は{2:.1f}Kg です。'.format(name, age, weight))"
   ]
  },
  {
   "cell_type": "code",
   "execution_count": 12,
   "metadata": {
    "collapsed": false
   },
   "outputs": [
    {
     "data": {
      "text/plain": [
       "'名前は[0],年齢は[1]です'"
      ]
     },
     "execution_count": 12,
     "metadata": {},
     "output_type": "execute_result"
    }
   ],
   "source": [
    "'名前は[0],年齢は[1]です'.format('太郎',100)"
   ]
  },
  {
   "cell_type": "code",
   "execution_count": 10,
   "metadata": {
    "collapsed": false
   },
   "outputs": [
    {
     "data": {
      "text/plain": [
       "'名前は太郎,年齢は100です'"
      ]
     },
     "execution_count": 10,
     "metadata": {},
     "output_type": "execute_result"
    }
   ],
   "source": [
    "'名前は'+'太郎'+',年齢は'+str(100)+'です'"
   ]
  },
  {
   "cell_type": "code",
   "execution_count": 16,
   "metadata": {
    "collapsed": false
   },
   "outputs": [
    {
     "name": "stdout",
     "output_type": "stream",
     "text": [
      " 何か入力してください：こんにちは\n",
      " 入力されたのは「こんにちは」です。\n"
     ]
    }
   ],
   "source": [
    "myStr = input(' 何か入力してください：')\n",
    "print(' 入力されたのは「{0}」です。'.format(myStr))"
   ]
  },
  {
   "cell_type": "code",
   "execution_count": null,
   "metadata": {
    "collapsed": false
   },
   "outputs": [],
   "source": [
    "# coding:utf-8\n",
    "print(' こんにちは')\n",
    "\n",
    "\n",
    "\n",
    "#身長の入力\n",
    "h = input(' 身長（m）？ ')\n",
    "print(' 身長は{0}m ですね'.format(h))\n",
    "\n",
    "\n",
    "\n",
    "#体重の入力\n",
    "w = input(' 体重（kg）？ ')\n",
    "print(' 体重は{0}kg ですね'.format(w))\n",
    "\n",
    "\n",
    "\n",
    "#BMI の計算\n",
    "bmi = float(w) / float(h) ** 2\n",
    "\n",
    "\n",
    "\n",
    "#BMI の表示\n",
    "print('BMI は{0}です'.format(bmi))\n",
    "print(' 約{0:.1f}です'.format(bmi))"
   ]
  },
  {
   "cell_type": "markdown",
   "metadata": {},
   "source": [
    "問123　コロン　スペース"
   ]
  },
  {
   "cell_type": "code",
   "execution_count": null,
   "metadata": {
    "collapsed": true
   },
   "outputs": [],
   "source": [
    "sample_dic=['A':100,'B':200]\n",
    "\n",
    "for v in sample_dict:\n",
    "    print(v)"
   ]
  },
  {
   "cell_type": "markdown",
   "metadata": {},
   "source": [
    "問125　else,elif"
   ]
  },
  {
   "cell_type": "markdown",
   "metadata": {},
   "source": [
    "問126　break, continue"
   ]
  },
  {
   "cell_type": "code",
   "execution_count": null,
   "metadata": {
    "collapsed": true
   },
   "outputs": [],
   "source": [
    "1+1"
   ]
  },
  {
   "cell_type": "code",
   "execution_count": null,
   "metadata": {
    "collapsed": true
   },
   "outputs": [],
   "source": [
    "1+1"
   ]
  },
  {
   "cell_type": "code",
   "execution_count": null,
   "metadata": {
    "collapsed": true
   },
   "outputs": [],
   "source": [
    "1+1"
   ]
  },
  {
   "cell_type": "markdown",
   "metadata": {
    "collapsed": true
   },
   "source": [
    "1"
   ]
  },
  {
   "cell_type": "code",
   "execution_count": null,
   "metadata": {
    "collapsed": true
   },
   "outputs": [],
   "source": [
    "1+1"
   ]
  },
  {
   "cell_type": "code",
   "execution_count": null,
   "metadata": {
    "collapsed": true
   },
   "outputs": [],
   "source": [
    "' あ'.encode('utf-8')"
   ]
  },
  {
   "cell_type": "code",
   "execution_count": null,
   "metadata": {
    "collapsed": true
   },
   "outputs": [],
   "source": []
  }
 ],
 "metadata": {
  "kernelspec": {
   "display_name": "Python 3",
   "language": "python",
   "name": "python3"
  },
  "language_info": {
   "codemirror_mode": {
    "name": "ipython",
    "version": 3
   },
   "file_extension": ".py",
   "mimetype": "text/x-python",
   "name": "python",
   "nbconvert_exporter": "python",
   "pygments_lexer": "ipython3",
   "version": "3.6.0"
  }
 },
 "nbformat": 4,
 "nbformat_minor": 2
}
